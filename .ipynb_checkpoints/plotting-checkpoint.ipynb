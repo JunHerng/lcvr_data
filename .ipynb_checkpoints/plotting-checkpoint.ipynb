{
 "cells": [
  {
   "cell_type": "code",
   "execution_count": 1,
   "metadata": {},
   "outputs": [
    {
     "ename": "ModuleNotFoundError",
     "evalue": "No module named 'pandas'",
     "output_type": "error",
     "traceback": [
      "\u001b[1;31m---------------------------------------------------------------------------\u001b[0m",
      "\u001b[1;31mModuleNotFoundError\u001b[0m                       Traceback (most recent call last)",
      "Input \u001b[1;32mIn [1]\u001b[0m, in \u001b[0;36m<module>\u001b[1;34m\u001b[0m\n\u001b[1;32m----> 1\u001b[0m \u001b[38;5;28;01mimport\u001b[39;00m \u001b[38;5;21;01mpandas\u001b[39;00m \u001b[38;5;28;01mas\u001b[39;00m \u001b[38;5;21;01mpd\u001b[39;00m\n\u001b[0;32m      2\u001b[0m \u001b[38;5;28;01mimport\u001b[39;00m \u001b[38;5;21;01mmatplotlib\u001b[39;00m\u001b[38;5;21;01m.\u001b[39;00m\u001b[38;5;21;01mpyplot\u001b[39;00m \u001b[38;5;28;01mas\u001b[39;00m \u001b[38;5;21;01mplt\u001b[39;00m\n\u001b[0;32m      4\u001b[0m plt\u001b[38;5;241m.\u001b[39mrcParams[\u001b[38;5;124m\"\u001b[39m\u001b[38;5;124mfigure.figsize\u001b[39m\u001b[38;5;124m\"\u001b[39m] \u001b[38;5;241m=\u001b[39m [\u001b[38;5;241m7.50\u001b[39m, \u001b[38;5;241m3.50\u001b[39m]\n",
      "\u001b[1;31mModuleNotFoundError\u001b[0m: No module named 'pandas'"
     ]
    }
   ],
   "source": [
    "import pandas as pd\n",
    "import matplotlib.pyplot as plt\n",
    "\n",
    "plt.rcParams[\"figure.figsize\"] = [7.50, 3.50]\n",
    "plt.rcParams[\"figure.autolayout\"] = True\n",
    "\n",
    "headers = ['V4', 'H', 'V', 'D', 'A']\n",
    "\n",
    "df = pd.read_csv('20220506_1550_lcvr.csv', names=headers)\n",
    "\n",
    "df.set_index('V4').plot()\n",
    "\n",
    "plt.show()"
   ]
  },
  {
   "cell_type": "code",
   "execution_count": 2,
   "metadata": {},
   "outputs": [
    {
     "name": "stdout",
     "output_type": "stream",
     "text": [
      "Package                       Version\n",
      "----------------------------- ---------\n",
      "2to3                          1.0\n",
      "alabaster                     0.7.12\n",
      "argon2-cffi                   21.3.0\n",
      "argon2-cffi-bindings          21.2.0\n",
      "asttokens                     2.0.5\n",
      "attrs                         21.4.0\n",
      "Babel                         2.9.1\n",
      "backcall                      0.2.0\n",
      "black                         21.12b0\n",
      "bleach                        4.1.0\n",
      "certifi                       2021.10.8\n",
      "cffi                          1.15.0\n",
      "charset-normalizer            2.0.10\n",
      "click                         8.0.3\n",
      "colorama                      0.4.4\n",
      "debugpy                       1.5.1\n",
      "decorator                     5.1.1\n",
      "defusedxml                    0.7.1\n",
      "docutils                      0.17.1\n",
      "entrypoints                   0.3\n",
      "executing                     0.8.2\n",
      "future                        0.18.2\n",
      "idna                          3.3\n",
      "imagesize                     1.3.0\n",
      "ipykernel                     6.7.0\n",
      "ipython                       8.0.0\n",
      "ipython-genutils              0.2.0\n",
      "ipywidgets                    7.6.5\n",
      "iso8601                       1.0.2\n",
      "jedi                          0.18.1\n",
      "Jinja2                        3.0.3\n",
      "jsonschema                    4.4.0\n",
      "jupyter                       1.0.0\n",
      "jupyter-client                7.1.1\n",
      "jupyter-console               6.4.0\n",
      "jupyter-core                  4.9.1\n",
      "jupyterlab-pygments           0.1.2\n",
      "jupyterlab-widgets            1.0.2\n",
      "MarkupSafe                    2.0.1\n",
      "matplotlib-inline             0.1.3\n",
      "mistune                       0.8.4\n",
      "mypy-extensions               0.4.3\n",
      "nbclient                      0.5.10\n",
      "nbconvert                     6.4.0\n",
      "nbformat                      5.1.3\n",
      "nest-asyncio                  1.5.4\n",
      "notebook                      6.4.7\n",
      "numpy                         1.22.2\n",
      "packaging                     21.3\n",
      "pandocfilters                 1.5.0\n",
      "parso                         0.8.3\n",
      "pathspec                      0.9.0\n",
      "pickleshare                   0.7.5\n",
      "pip                           22.0.3\n",
      "platformdirs                  2.4.1\n",
      "prometheus-client             0.12.0\n",
      "prompt-toolkit                3.0.24\n",
      "pure-eval                     0.2.1\n",
      "pycparser                     2.21\n",
      "Pygments                      2.11.2\n",
      "pyparsing                     3.0.6\n",
      "pyrsistent                    0.18.1\n",
      "pyserial                      3.5\n",
      "python-dateutil               2.8.2\n",
      "pytz                          2021.3\n",
      "pywin32                       303\n",
      "pywinpty                      1.1.6\n",
      "PyYAML                        6.0\n",
      "pyzmq                         22.3.0\n",
      "qtconsole                     5.2.2\n",
      "QtPy                          2.0.0\n",
      "requests                      2.27.1\n",
      "S15lib                        0.2.0\n",
      "Send2Trash                    1.8.0\n",
      "serial                        0.0.97\n",
      "six                           1.16.0\n",
      "snowballstemmer               2.2.0\n",
      "Sphinx                        4.4.0\n",
      "sphinx-rtd-theme              1.0.0\n",
      "sphinxcontrib-applehelp       1.0.2\n",
      "sphinxcontrib-devhelp         1.0.2\n",
      "sphinxcontrib-htmlhelp        2.0.0\n",
      "sphinxcontrib-jsmath          1.0.1\n",
      "sphinxcontrib-qthelp          1.0.3\n",
      "sphinxcontrib-serializinghtml 1.1.5\n",
      "stack-data                    0.1.4\n",
      "terminado                     0.12.1\n",
      "testpath                      0.5.0\n",
      "tomli                         1.2.3\n",
      "tornado                       6.1\n",
      "traitlets                     5.1.1\n",
      "typing_extensions             4.0.1\n",
      "urllib3                       1.26.8\n",
      "wcwidth                       0.2.5\n",
      "webencodings                  0.5.1\n",
      "widgetsnbextension            3.5.2\n",
      "Note: you may need to restart the kernel to use updated packages.\n"
     ]
    },
    {
     "name": "stderr",
     "output_type": "stream",
     "text": [
      "WARNING: You are using pip version 22.0.3; however, version 22.0.4 is available.\n",
      "You should consider upgrading via the 'C:\\Users\\User\\AppData\\Local\\Microsoft\\WindowsApps\\PythonSoftwareFoundation.Python.3.10_qbz5n2kfra8p0\\python.exe -m pip install --upgrade pip' command.\n"
     ]
    }
   ],
   "source": [
    "pip list"
   ]
  },
  {
   "cell_type": "code",
   "execution_count": null,
   "metadata": {},
   "outputs": [],
   "source": []
  },
  {
   "cell_type": "code",
   "execution_count": null,
   "metadata": {},
   "outputs": [],
   "source": []
  }
 ],
 "metadata": {
  "kernelspec": {
   "display_name": "Python 3 (ipykernel)",
   "language": "python",
   "name": "python3"
  },
  "language_info": {
   "codemirror_mode": {
    "name": "ipython",
    "version": 3
   },
   "file_extension": ".py",
   "mimetype": "text/x-python",
   "name": "python",
   "nbconvert_exporter": "python",
   "pygments_lexer": "ipython3",
   "version": "3.10.4"
  }
 },
 "nbformat": 4,
 "nbformat_minor": 2
}
